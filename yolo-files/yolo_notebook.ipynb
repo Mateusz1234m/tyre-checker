{
  "cells": [
    {
      "cell_type": "code",
      "execution_count": null,
      "metadata": {
        "id": "Nf5w_YeD4gD9"
      },
      "outputs": [],
      "source": [
        "%cd ..\n",
        "from google.colab import drive\n",
        "drive.mount('/content/gdrive')\n",
        "\n",
        "!ln -s /content/gdrive/My\\ Drive/ /mydrive"
      ]
    },
    {
      "cell_type": "code",
      "execution_count": null,
      "metadata": {
        "id": "HCs4VQmESACk"
      },
      "outputs": [],
      "source": [
        "!git clone https://github.com/AlexeyAB/darknet"
      ]
    },
    {
      "cell_type": "code",
      "execution_count": null,
      "metadata": {
        "id": "5H-Taj06Tw1c"
      },
      "outputs": [],
      "source": [
        "%cd darknet\n",
        "!sed -i 's/OPENCV=0/OPENCV=1/' Makefile\n",
        "!sed -i 's/GPU=0/GPU=1/' Makefile\n",
        "!sed -i 's/CUDNN=0/CUDNN=1/' Makefile"
      ]
    },
    {
      "cell_type": "code",
      "source": [
        "assert False"
      ],
      "metadata": {
        "id": "wxxaJVi5UUbE"
      },
      "execution_count": null,
      "outputs": []
    },
    {
      "cell_type": "markdown",
      "source": [
        "Manually modify darknet/src/detector.c to enable saving the .weights file every 1000 iterations despite the max_batches value:\n",
        "\n",
        "Find line 394:\n",
        "\n",
        "if ((iteration >= (iter_save + 10000) || iteration % 10000 == 0) ||\n",
        "\n",
        "and change to:\n",
        "\n",
        "if ((iteration >= (iter_save + 1000) || iteration % 1000 == 0) ||"
      ],
      "metadata": {
        "id": "dvTutv_8UVdY"
      }
    },
    {
      "cell_type": "code",
      "execution_count": null,
      "metadata": {
        "id": "3DWRrVatZZZg"
      },
      "outputs": [],
      "source": [
        "# !make clean\n",
        "!make"
      ]
    },
    {
      "cell_type": "code",
      "execution_count": null,
      "metadata": {
        "id": "YpljhMVHOx9X"
      },
      "outputs": [],
      "source": [
        "# opload dataset\n",
        "# !cp /mydrive/yolov3/opony_2023/obj_text_fields_crop_10.zip ../\n",
        "!cp /mydrive/yolov3/opony_2023/obj_textfields_1216_192.zip ../\n",
        "!cp /mydrive/yolov3/opony_2023/obj_characters_96_64.zip ../"
      ]
    },
    {
      "cell_type": "code",
      "execution_count": null,
      "metadata": {
        "id": "45en565PPLce"
      },
      "outputs": [],
      "source": [
        "# unzip dataset\n",
        "# !unzip ../obj_text_fields_crop_10.zip -d data/\n",
        "!unzip ../obj_textfields_1216_192.zip -d data/\n",
        "!unzip ../obj_characters_96_64.zip -d data/"
      ]
    },
    {
      "cell_type": "code",
      "execution_count": null,
      "metadata": {
        "id": "FKGP15SmrXLe"
      },
      "outputs": [],
      "source": [
        "# upload cfg files\n",
        "# !cp /mydrive/yolov3/opony_2023/yolov7-tiny-text-fields-1472-128.cfg ./cfg\n",
        "# !cp /mydrive/yolov3/opony_2023/yolov7-tiny-characters-96-64.cfg ./cfg\n",
        "# !cp /mydrive/yolov3/opony_2023/yolov7-tiny-text-fields-416-2464.cfg ./cfg\n",
        "\n",
        "!cp /mydrive/yolov3/opony_2023/yolov4-tiny-text-fields-1216-192.cfg ./cfg\n",
        "!cp /mydrive/yolov3/opony_2023/yolov4-tiny-characters-96-64.cfg ./cfg"
      ]
    },
    {
      "cell_type": "code",
      "execution_count": null,
      "metadata": {
        "id": "qBmbHd7M16lK"
      },
      "outputs": [],
      "source": [
        "# upload .names and .data files\n",
        "!cp /mydrive/yolov3/opony_2023/obj_text_fields.names ./data\n",
        "!cp /mydrive/yolov3/opony_2023/obj_text_fields.data  ./data\n",
        "\n",
        "!cp /mydrive/yolov3/opony_2023/obj_characters.names ./data\n",
        "!cp /mydrive/yolov3/opony_2023/obj_characters.data  ./data"
      ]
    },
    {
      "cell_type": "code",
      "execution_count": null,
      "metadata": {
        "id": "A6AzC-yx8e6E"
      },
      "outputs": [],
      "source": [
        "# upload valid and train .txt files\n",
        "\n",
        "!cp /mydrive/yolov3/opony_2023/train_textfields.txt  ./data\n",
        "!cp /mydrive/yolov3/opony_2023/valid_textfields.txt  ./data\n",
        "\n",
        "!cp /mydrive/yolov3/opony_2023/train_characters.txt  ./data\n",
        "!cp /mydrive/yolov3/opony_2023/valid_characters.txt  ./data"
      ]
    },
    {
      "cell_type": "code",
      "execution_count": null,
      "metadata": {
        "id": "OT8ValUr9vbb"
      },
      "outputs": [],
      "source": [
        "# upload pretrained weights for the backbone\n",
        "\n",
        "!cp /mydrive/yolov3/opony_2023/yolov7-tiny.conv.87  ./\n",
        "!cp /mydrive/yolov3/opony_2023/yolov4-tiny.conv.29  ./"
      ]
    },
    {
      "cell_type": "markdown",
      "source": [
        "Copy to console (Crtl + Shift + i): \\\n",
        "(not sure if it still works)\n",
        "\n",
        "function ClickConnect(){\\\n",
        "console.log(\"Working\"); \\\n",
        "document.querySelector(\"colab-toolbar-button#connect\").click() \\\n",
        "}\\\n",
        "setInterval(ClickConnect,60000)"
      ],
      "metadata": {
        "id": "FDlmbUdVXaJn"
      }
    },
    {
      "cell_type": "code",
      "execution_count": null,
      "metadata": {
        "colab": {
          "background_save": true
        },
        "id": "IrT9LSjc8LMt"
      },
      "outputs": [],
      "source": [
        "# train neural network\n",
        "\n",
        "# !./darknet detector train data/obj_text_fields.data cfg/yolov7-tiny-text-fields-1472-128.cfg yolov7-tiny.conv.87 -dont_show -mjpeg_port 8090 -map\n",
        "# !./darknet detector train data/obj_characters.data cfg/yolov7-tiny-characters-96-64.cfg yolov7-tiny.conv.87 -dont_show -mjpeg_port 8090 -map\n",
        "\n",
        "# no map to allow lower subdivisions (greater mini-batch size)\n",
        "# !./darknet detector train data/obj_text_fields.data cfg/yolov7-tiny-text-fields-1472-128.cfg yolov7-tiny.conv.87 -dont_show -mjpeg_port 8090\n",
        "# !./darknet detector train data/obj_characters.data cfg/yolov7-tiny-characters-96-64.cfg yolov7-tiny.conv.87 -dont_show -mjpeg_port 8090\n",
        "\n",
        "# !./darknet detector train data/obj_text_fields.data cfg/yolov4-tiny-text-fields-1216-192.cfg yolov4-tiny.conv.29 -dont_show -mjpeg_port 8090\n",
        "!./darknet detector train data/obj_characters.data cfg/yolov4-tiny-characters-96-64.cfg yolov4-tiny.conv.29 -dont_show -mjpeg_port 8090"
      ]
    },
    {
      "cell_type": "code",
      "source": [
        "# calculate map\n",
        "\n",
        "!./darknet detector map data/obj_characters.data cfg/yolov4-tiny-characters-96-64.cfg /mydrive/backup/yolov4-tiny-characters-96-64_20000.weights -thresh 0.5 "
      ],
      "metadata": {
        "id": "appgWm3MYJPn"
      },
      "execution_count": null,
      "outputs": []
    }
  ],
  "metadata": {
    "accelerator": "GPU",
    "colab": {
      "provenance": []
    },
    "gpuClass": "standard",
    "kernelspec": {
      "display_name": "Python 3",
      "name": "python3"
    }
  },
  "nbformat": 4,
  "nbformat_minor": 0
}